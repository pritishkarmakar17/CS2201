{
 "cells": [
  {
   "cell_type": "markdown",
   "metadata": {},
   "source": [
    "# Numerical Method Notes\n",
    "\n",
    "- ### Bisection method code snippet"
   ]
  },
  {
   "cell_type": "code",
   "execution_count": 32,
   "metadata": {},
   "outputs": [
    {
     "name": "stdout",
     "output_type": "stream",
     "text": [
      "\t x1\t\t x2\t\t x0\t\t f(x0)\n",
      "\n",
      "\n",
      "1\t 11.500000\t 12.000000\t 11.500000\t 2.250000\t\n",
      "2\t 11.750000\t 12.000000\t 11.750000\t 0.562500\t\n",
      "3\t 11.750000\t 11.875000\t 11.875000\t -0.234375\t\n",
      "4\t 11.812500\t 11.875000\t 11.812500\t 0.160156\t\n",
      "5\t 11.812500\t 11.843750\t 11.843750\t -0.038086\t\n",
      "6\t 11.828125\t 11.843750\t 11.828125\t 0.060791\t\n",
      "7\t 11.835938\t 11.843750\t 11.835938\t 0.011292\t\n",
      "8\t 11.835938\t 11.839844\t 11.839844\t -0.013412\t\n",
      "9\t 11.835938\t 11.837891\t 11.837891\t -0.001064\t\n",
      "10\t 11.836914\t 11.837891\t 11.836914\t 0.005113\t\n",
      "11\t 11.837402\t 11.837891\t 11.837402\t 0.002024\t\n",
      "12\t 11.837646\t 11.837891\t 11.837646\t 0.000480\t\n",
      "\n",
      "\n",
      "1\t 18.000000\t 18.500000\t 18.500000\t 2.250000\t\n",
      "2\t 18.000000\t 18.250000\t 18.250000\t 0.562500\t\n",
      "3\t 18.125000\t 18.250000\t 18.125000\t -0.234375\t\n",
      "4\t 18.125000\t 18.187500\t 18.187500\t 0.160156\t\n",
      "5\t 18.156250\t 18.187500\t 18.156250\t -0.038086\t\n",
      "6\t 18.156250\t 18.171875\t 18.171875\t 0.060791\t\n",
      "7\t 18.156250\t 18.164062\t 18.164062\t 0.011292\t\n",
      "8\t 18.160156\t 18.164062\t 18.160156\t -0.013412\t\n",
      "9\t 18.162109\t 18.164062\t 18.162109\t -0.001064\t\n",
      "10\t 18.162109\t 18.163086\t 18.163086\t 0.005113\t\n",
      "11\t 18.162109\t 18.162598\t 18.162598\t 0.002024\t\n",
      "12\t 18.162109\t 18.162354\t 18.162354\t 0.000480\t\n",
      "\n",
      "\n",
      "no of solution in the range:\t2\n",
      "the solutions:\t[11.837646484375, 18.162353515625]\n"
     ]
    },
    {
     "data": {
      "image/png": "[encoded data removed]",
      "text/plain": [
       "<Figure size 432x288 with 1 Axes>"
      ]
     },
     "metadata": {
      "needs_background": "light"
     },
     "output_type": "display_data"
    }
   ],
   "source": [
    "from math import *\n",
    "import numpy as np\n",
    "import matplotlib.pyplot as plt\n",
    "\n",
    "# define a function\n",
    "f = lambda x: (x-15)**2 -10\n",
    "\n",
    "# coarse search for probable multiple soln.\n",
    "xv=[]\n",
    "a=0\n",
    "b=100\n",
    "step = 1\n",
    "for i in np.arange(a,b,step):\n",
    "    if f(i)*f(i+step)<0:\n",
    "        xv.append((i,i+step))\n",
    "\n",
    "# fine search for probable soln.\n",
    "sol=[]\n",
    "\n",
    "print(\"\\t x1\\t\\t x2\\t\\t x0\\t\\t f(x0)\")\n",
    "\n",
    "for i in xv:\n",
    "    # initial points\n",
    "    x1,x2=i[0],i[1]\n",
    "    \n",
    "    print(\"\\n\")\n",
    "    \n",
    "    k=0\n",
    "    # looping start\n",
    "    while True:\n",
    "        # count\n",
    "        k+=1\n",
    "        \n",
    "        # bisection point\n",
    "        x0=(x1+x2)/2\n",
    "\n",
    "        # if soln is in left part\n",
    "        if f(x1)*f(x0)<0:\n",
    "            x1=x1\n",
    "            x2=x0\n",
    "        \n",
    "        # if soln is in right part    \n",
    "        else:\n",
    "            x1=x0\n",
    "            x2=x2\n",
    "        \n",
    "        print(\"%i\\t %.6f\\t %.6f\\t %.6f\\t %.6f\\t\" %(k,x1,x2,x0,f(x0)))\n",
    "        \n",
    "        '''\n",
    "        debugging\n",
    "        print(f\"f({x0})={f(x0)}\")\n",
    "        ''' \n",
    "\n",
    "        # required accuracy\n",
    "        accuracy = 10**(-3)\n",
    "        if abs(f(x0))<accuracy:\n",
    "            sol.append(x0)\n",
    "            break\n",
    "            \n",
    "\n",
    "print(\"\\n\")\n",
    "\n",
    "if len(sol)==1:\n",
    "    print(f\"the solution:\\t{sol[0]}\")\n",
    "elif len(sol)>1:\n",
    "    print(f\"no of solution in the range:\\t{len(sol)}\")\n",
    "    print(f\"the solutions:\\t{sol}\")\n",
    "else:\n",
    "    print(\"no solution in that range\")\n",
    "\n",
    "\n",
    "t=np.linspace(xv[0][0],xv[-1][-1],10000)\n",
    "plt.plot(t,f(t))\n",
    "for i in sol:\n",
    "    plt.scatter(i,f(i))\n",
    "plt.show()"
   ]
  },
  {
   "cell_type": "markdown",
   "metadata": {},
   "source": [
    "- ### Newton-Raphson Method code snippet"
   ]
  },
  {
   "cell_type": "code",
   "execution_count": 35,
   "metadata": {},
   "outputs": [
    {
     "name": "stdout",
     "output_type": "stream",
     "text": [
      "Initial guess: 0\n",
      "\n",
      "\n",
      "\tx\t\tf(x)\n",
      "1\t 7.166906\t51.357368\n",
      "2\t10.445345\t10.744885\n",
      "3\t11.625024\t 1.390463\n",
      "4\t11.831051\t 0.042241\n",
      "5\t11.837716\t 0.000038\n",
      "\n",
      "\n",
      "The solution: 11.837716368207913\n"
     ]
    },
    {
     "data": {
      "image/png": "[encoded data removed]",
      "text/plain": [
       "<Figure size 432x288 with 1 Axes>"
      ]
     },
     "metadata": {
      "needs_background": "light"
     },
     "output_type": "display_data"
    }
   ],
   "source": [
    "from math import *\n",
    "import matplotlib.pyplot as plt\n",
    "\n",
    "\n",
    "# define a function\n",
    "f = lambda x: (x-15)**2 -10\n",
    "\n",
    "#initial guesses\n",
    "x0=float(input(\"Initial guess: \"))\n",
    "print(\"\\n\")\n",
    "\n",
    "#definr derivative\n",
    "def dfdx(x):\n",
    "    h=10e-4\n",
    "    return (f(x+h)-f(x))/h\n",
    "\n",
    "def h(x):\n",
    "    return -f(x)/dfdx(x)\n",
    "print(\"\\tx\\t\\tf(x)\")\n",
    "\n",
    "k=0\n",
    "while True:\n",
    "    # count\n",
    "    k+=1\n",
    "    x0+=h(x0)\n",
    "    print(\"%i\\t%9.6f\\t%9.6f\"%(k,x0,f(x0)))\n",
    "    if abs(f(x0))<10**(-3):\n",
    "        sol = x0\n",
    "        break\n",
    "\n",
    "print(\"\\n\")\n",
    "print(f\"The solution: {sol}\")\n",
    "\n",
    "t=np.linspace(sol-3,sol+3,10000)\n",
    "plt.plot(t,f(t))\n",
    "plt.scatter(sol,f(sol))\n",
    "plt.show()"
   ]
  },
  {
   "cell_type": "markdown",
   "metadata": {},
   "source": [
    "- ### Regula Falsi Method code snippet"
   ]
  },
  {
   "cell_type": "code",
   "execution_count": null,
   "metadata": {},
   "outputs": [],
   "source": []
  }
 ],
 "metadata": {
  "kernelspec": {
   "display_name": "Python 3",
   "language": "python",
   "name": "python3"
  },
  "language_info": {
   "codemirror_mode": {
    "name": "ipython",
    "version": 3
   },
   "file_extension": ".py",
   "mimetype": "text/x-python",
   "name": "python",
   "nbconvert_exporter": "python",
   "pygments_lexer": "ipython3",
   "version": "3.7.3"
  },
  "vscode": {
   "interpreter": {
    "hash": "916dbcbb3f70747c44a77c7bcd40155683ae19c65e1c03b4aa3499c5328201f1"
   }
  }
 },
 "nbformat": 4,
 "nbformat_minor": 2
}
